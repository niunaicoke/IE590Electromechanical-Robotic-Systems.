{
 "cells": [
  {
   "cell_type": "code",
   "execution_count": 23,
   "id": "328c5fde",
   "metadata": {},
   "outputs": [],
   "source": [
    "import os\n",
    "import cv2 as cv\n",
    "import numpy as np\n",
    "import pickle\n",
    "from PIL import Image"
   ]
  },
  {
   "cell_type": "code",
   "execution_count": 24,
   "id": "ad8b9aeb",
   "metadata": {},
   "outputs": [],
   "source": [
    "#declare the directories\n",
    "base_dir = os.path.dirname(os.path.abspath(\"__file__\"))\n",
    "#print(base_dir)\n",
    "image_dir = os.path.join(base_dir, \"images\")\n",
    "# image_dir= '/Users/scottliu/Desktop/train'"
   ]
  },
  {
   "cell_type": "code",
   "execution_count": 25,
   "id": "cee1af23",
   "metadata": {},
   "outputs": [],
   "source": [
    "face_cascade = cv.CascadeClassifier(cv.data.haarcascades + 'haarcascade_frontalface_default.xml') #Face Classifier\n",
    "recognizer = cv.face.LBPHFaceRecognizer_create()# if the recognizer gives you errors then\n",
    "#run this: pip uninstall opencv-contrib-python\n",
    "#then run this: pip install --user opencv-contrib-python    (you could remove the --user)\n",
    "current_id = 0\n",
    "label_ids = {} #diccionary containing all the people I have identified\n",
    "y_labels = [] #list of numbers related to the labels\n",
    "x_train = [] #picture values"
   ]
  },
  {
   "cell_type": "markdown",
   "id": "3f226cbc",
   "metadata": {},
   "source": [
    "# Troubleshooting\n",
    "\n",
    "Very often the cell above will not give you trouble, in this case you can ignore this message. However, if this line: \n",
    "\n",
    "```recognizer = cv.face.LBPHFaceRecognizer_create()```\n",
    "\n",
    "gives you an error, you may have conflicting libraries. In which case, you should uninstall the opencv-contrib-python by using this code: \n",
    "\n",
    "```pip uninstall opencv-contrib-python``` \n",
    "\n",
    "from the Python terminal. Then, reinstall the following line: \n",
    "\n",
    "```pip install --user opencv-contrib-python    (you could remove the --user)```"
   ]
  },
  {
   "cell_type": "code",
   "execution_count": 26,
   "id": "275cfd19",
   "metadata": {},
   "outputs": [
    {
     "name": "stdout",
     "output_type": "stream",
     "text": [
      "4 /Users/scottliu/Desktop/W13 Image Recognition/images/4.jpg\n",
      "{'4': 0}\n",
      "[[220 220 220 ... 160 159 159]\n",
      " [219 219 220 ... 160 159 159]\n",
      " [220 220 220 ... 160 160 160]\n",
      " ...\n",
      " [ 25  25  25 ...  21  21  21]\n",
      " [ 23  23  23 ...  20  21  21]\n",
      " [ 21  21  22 ...  19  21  21]]\n",
      "5 /Users/scottliu/Desktop/W13 Image Recognition/images/5.jpg\n",
      "{'4': 0, '5': 1}\n",
      "[[225 225 225 ... 163 164 163]\n",
      " [225 225 225 ... 163 164 163]\n",
      " [225 225 225 ... 163 164 163]\n",
      " ...\n",
      " [ 25  25  25 ...  22  22  22]\n",
      " [ 25  25  25 ...  22  21  20]\n",
      " [ 25  25  25 ...  22  22  19]]\n",
      "2 /Users/scottliu/Desktop/W13 Image Recognition/images/2.jpg\n",
      "{'4': 0, '5': 1, '2': 2}\n",
      "[[225 225 225 ... 163 163 163]\n",
      " [225 225 225 ... 163 163 163]\n",
      " [225 225 225 ... 163 163 163]\n",
      " ...\n",
      " [ 27  27  27 ... 178 178 177]\n",
      " [ 25  25  25 ... 168 174 177]\n",
      " [ 25  25  25 ... 144 162 173]]\n",
      "3 /Users/scottliu/Desktop/W13 Image Recognition/images/3.jpg\n",
      "{'4': 0, '5': 1, '2': 2, '3': 3}\n",
      "[[220 220 220 ... 155 155 155]\n",
      " [220 220 220 ... 155 155 155]\n",
      " [220 220 219 ... 155 155 155]\n",
      " ...\n",
      " [ 22  23  25 ...  22  22  22]\n",
      " [ 22  23  25 ...  22  22  22]\n",
      " [ 22  23  25 ...  22  22  22]]\n",
      "1 /Users/scottliu/Desktop/W13 Image Recognition/images/1.jpg\n",
      "{'4': 0, '5': 1, '2': 2, '3': 3, '1': 4}\n",
      "[[227 227 227 ... 171 171 171]\n",
      " [227 227 227 ... 171 171 171]\n",
      " [227 227 227 ... 171 171 171]\n",
      " ...\n",
      " [ 24  24  24 ...  26  26  26]\n",
      " [ 24  24  24 ...  28  28  28]\n",
      " [ 23  23  23 ...  30  30  30]]\n",
      "DONE!\n"
     ]
    }
   ],
   "source": [
    "for root, dirs, files in os.walk(image_dir):\n",
    "    for file in files:\n",
    "        if file.endswith(\"jpg\") or file.endswith(\"png\"):\n",
    "            path = os.path.join(root, file)\n",
    "            label = os.path.basename(path).replace(\".jpg\", \"\").replace(\".png\", \"\").replace(\" \", \"-\").lower()\n",
    "            print (label, path)\n",
    "            \n",
    "            if label not in label_ids:\n",
    "                label_ids[label] = current_id\n",
    "                current_id += 1\n",
    "            id_now = label_ids[label]\n",
    "            print(label_ids)\n",
    "                           \n",
    "            pil_image = Image.open(path).convert(\"L\") #open image and convert it to grayscale.\n",
    "            image_array = np.array(pil_image, \"uint8\")\n",
    "            print(image_array)\n",
    "            \n",
    "            # Detect faces in the image\n",
    "            faces = face_cascade.detectMultiScale(\n",
    "                image_array,\n",
    "                scaleFactor=1.21, #1.25\n",
    "                minNeighbors=4, #5\n",
    "                minSize=(20, 20), #30, 30\n",
    "                flags = cv.CASCADE_SCALE_IMAGE\n",
    "            )\n",
    "            \n",
    "            # Draw a rectangle around the faces\n",
    "            for (x, y, w, h) in faces:\n",
    "                roi = image_array[y:y+h, x:x+w]\n",
    "                x_train.append(roi) #this is our training data\n",
    "                y_labels.append(id_now)\n",
    "\n",
    "# save all labels as a \"labels.pickle\" file (in the same directory)\n",
    "with open(\"labels.pickle\", 'wb') as file: #'wb' stands for \"writing bytes\"\n",
    "    pickle.dump(label_ids, file)\n",
    "\n",
    "recognizer.train(x_train, np.array(y_labels))\n",
    "recognizer.save(\"trainer.yml\")\n",
    "print(\"DONE!\")"
   ]
  },
  {
   "cell_type": "code",
   "execution_count": null,
   "id": "18233da8-4f1a-4347-ab63-811539a3a9df",
   "metadata": {},
   "outputs": [],
   "source": []
  }
 ],
 "metadata": {
  "kernelspec": {
   "display_name": "Python 3 (ipykernel)",
   "language": "python",
   "name": "python3"
  },
  "language_info": {
   "codemirror_mode": {
    "name": "ipython",
    "version": 3
   },
   "file_extension": ".py",
   "mimetype": "text/x-python",
   "name": "python",
   "nbconvert_exporter": "python",
   "pygments_lexer": "ipython3",
   "version": "3.10.12"
  }
 },
 "nbformat": 4,
 "nbformat_minor": 5
}
