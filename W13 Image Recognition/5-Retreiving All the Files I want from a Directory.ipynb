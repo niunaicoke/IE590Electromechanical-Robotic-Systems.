{
 "cells": [
  {
   "cell_type": "markdown",
   "id": "7a8e4dc7",
   "metadata": {},
   "source": [
    "# Retreiving All the Files I want from a Directory"
   ]
  },
  {
   "cell_type": "code",
   "execution_count": 2,
   "id": "905479be",
   "metadata": {},
   "outputs": [],
   "source": [
    "import os\n",
    "import cv2 as cv"
   ]
  },
  {
   "cell_type": "code",
   "execution_count": 5,
   "id": "beba15eb",
   "metadata": {},
   "outputs": [
    {
     "name": "stdout",
     "output_type": "stream",
     "text": [
      "['01_pen', '02_pen', '03_pen', '04_pen', '05_pen', '06_pen', '07_pen', '08_pen', '09_pen', '10_pen', '11_pen', '12_pen']\n"
     ]
    }
   ],
   "source": [
    "path = \"Photos/Assignment\"\n",
    "valid_images = [\".jpg\", \".png\", \".gif\", \".bmp\"]\n",
    "\n",
    "imgs = []\n",
    "img_names = []\n",
    "\n",
    "for file in os.listdir(path):\n",
    "    name = os.path.splitext(file)[0]\n",
    "    ext = os.path.splitext(file)[1]\n",
    "    if ext.lower() in valid_images:\n",
    "        imgs.append(cv.imread(os.path.join(path, file)))\n",
    "        img_names.append(name)\n",
    "\n",
    "print(img_names)\n",
    "#print(imgs)"
   ]
  },
  {
   "cell_type": "code",
   "execution_count": null,
   "id": "1266a69d",
   "metadata": {},
   "outputs": [],
   "source": []
  }
 ],
 "metadata": {
  "hide_input": false,
  "kernelspec": {
   "display_name": "Python 3 (ipykernel)",
   "language": "python",
   "name": "python3"
  },
  "language_info": {
   "codemirror_mode": {
    "name": "ipython",
    "version": 3
   },
   "file_extension": ".py",
   "mimetype": "text/x-python",
   "name": "python",
   "nbconvert_exporter": "python",
   "pygments_lexer": "ipython3",
   "version": "3.11.5"
  }
 },
 "nbformat": 4,
 "nbformat_minor": 5
}
